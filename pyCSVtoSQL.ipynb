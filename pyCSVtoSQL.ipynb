{
  "nbformat": 4,
  "nbformat_minor": 0,
  "metadata": {
    "colab": {
      "name": "pyCSVtoSQL.ipynb",
      "provenance": [],
      "collapsed_sections": [],
      "authorship_tag": "ABX9TyNMHgRLOo4rz26QHJdcpINS",
      "include_colab_link": true
    },
    "kernelspec": {
      "name": "python3",
      "display_name": "Python 3"
    },
    "language_info": {
      "name": "python"
    }
  },
  "cells": [
    {
      "cell_type": "markdown",
      "metadata": {
        "id": "view-in-github",
        "colab_type": "text"
      },
      "source": [
        "<a href=\"https://colab.research.google.com/github/pycriador/PyCSVtoXLSX/blob/main/pyCSVtoSQL.ipynb\" target=\"_parent\"><img src=\"https://colab.research.google.com/assets/colab-badge.svg\" alt=\"Open In Colab\"/></a>"
      ]
    },
    {
      "cell_type": "markdown",
      "source": [
        "### Projeto de Junho\n",
        "\n",
        "Convertendo CSV e XLSX em SQL"
      ],
      "metadata": {
        "id": "UxoGUQWavhTZ"
      }
    },
    {
      "cell_type": "markdown",
      "source": [
        "Primeiro, vamos importar as bibliotecas básicas"
      ],
      "metadata": {
        "id": "Jki9mHcTvrUX"
      }
    },
    {
      "cell_type": "code",
      "execution_count": null,
      "metadata": {
        "id": "7OKg2OUovgf8"
      },
      "outputs": [],
      "source": [
        "!pip install sqlalchemy pandas"
      ]
    },
    {
      "cell_type": "markdown",
      "source": [
        "Iniciar com os imports necessários"
      ],
      "metadata": {
        "id": "EFA-S8Dfv6fm"
      }
    },
    {
      "cell_type": "code",
      "source": [
        "# Import SQLAlchemy\n",
        "from sqlalchemy import create_engine\n",
        "from sqlalchemy.types import Integer\n",
        "\n",
        "import pandas as pd\n",
        "import zipfile\n",
        "import os, re"
      ],
      "metadata": {
        "id": "z-mWevW5v6Pu"
      },
      "execution_count": 2,
      "outputs": []
    },
    {
      "cell_type": "markdown",
      "source": [
        "Criar arquivo SQLite e string de conexão"
      ],
      "metadata": {
        "id": "nESWxLUVwFaf"
      }
    },
    {
      "cell_type": "code",
      "source": [
        "# Criar arquivo e testar conexão\n",
        "engine = create_engine('sqlite:///pesquisa.db', echo=False)\n",
        "sqlite_connection = engine.connect()"
      ],
      "metadata": {
        "id": "Qzgq9a9NwK52"
      },
      "execution_count": 3,
      "outputs": []
    },
    {
      "cell_type": "markdown",
      "source": [
        "Importação da classe principal:"
      ],
      "metadata": {
        "id": "dWzq39cTwVwu"
      }
    },
    {
      "cell_type": "code",
      "source": [
        "class appCore():\n",
        "\n",
        "    def files(self, path, extension):\n",
        "        for file in os.listdir(path):\n",
        "            if os.path.isfile(os.path.join(path, file)):\n",
        "                if re.search(extension, file):\n",
        "                    yield file\n",
        "\n",
        "    def read_dir(self, path=None, extension=None):\n",
        "        dir_list = []\n",
        "        for path_info in path:\n",
        "            dirs = self.files(path_info, extension)\n",
        "            for dir_info in dirs:\n",
        "                dir_list.append(\"%s/%s\" % (path_info, dir_info))\n",
        "        return dir_list\n",
        "\n",
        "    def read(self, input=None, zipped=None, sep=None, encoding='iso-8859-1'):\n",
        "        if zipped:\n",
        "            with zipfile.ZipFile(input, 'r') as f:\n",
        "                # ZipFile.extract(member, path=None, pwd=None)\n",
        "                print('Abrindo ZIP')\n",
        "                for name in f.namelist():\n",
        "                    print(f'Trabalhando no arquivo: {name}')\n",
        "                    filename, file_extension = os.path.splitext(name)\n",
        "                    if file_extension.upper() == '.CSV':\n",
        "                        print('Carregando CSV')\n",
        "                        self.df_base = pd.read_csv(f.open(name), sep=sep, encoding=encoding, low_memory=False)\n",
        "                        ### Se for usar um ZIP, coloque a ação para cada arquivo no ZIP\n",
        "                    elif file_extension.upper() == '.XLSX':\n",
        "                        print('Carregando XLSX')\n",
        "                        xlsx = pd.ExcelFile(f.open(name))\n",
        "                        self.df_base = pd.read_excel(xlsx)\n",
        "                        ### Se for usar um ZIP, coloque a ação para cada arquivo no ZIP\n",
        "        else:\n",
        "            filename, file_extension = os.path.splitext(input)\n",
        "            if file_extension.upper() == '.CSV':\n",
        "                print('Carregando CSV')\n",
        "                self.df_base = pd.read_csv(input, sep=sep, encoding=encoding, low_memory=False)\n",
        "            elif file_extension.upper() == '.XLSX':\n",
        "                print('Carregando XLSX')\n",
        "                xlsx = pd.ExcelFile(input)\n",
        "                self.df_base = pd.read_excel(xlsx)\n",
        "\n",
        "    def write(self, dtype=None):\n",
        "        sqlite_table = \"Base\"\n",
        "        print(\"Criando SQLite com os dados\")\n",
        "        if dtype:\n",
        "            # if_exists='append' - Para adicionar ou fail para dar erro\n",
        "            self.df_base.to_sql(sqlite_table, sqlite_connection, if_exists='replace', dtype=dtype)\n",
        "        else:\n",
        "            self.df_base.to_sql(sqlite_table, sqlite_connection, if_exists='replace')\n"
      ],
      "metadata": {
        "id": "uSMbna-UwUl2"
      },
      "execution_count": 8,
      "outputs": []
    },
    {
      "cell_type": "markdown",
      "source": [
        "Limpando arquivos antigos e criando pastas:"
      ],
      "metadata": {
        "id": "wPHNztV7wiAH"
      }
    },
    {
      "cell_type": "code",
      "source": [
        "import shutil\n",
        "\n",
        "print('Limpando arquivos antigos')\n",
        "try:\n",
        "  shutil.rmtree('arquivos')\n",
        "except Exception as e:\n",
        "  pass\n",
        "  #print(f'Erro: {e}')\n",
        "\n",
        "print('Criando a pasta \"arquivos\"')\n",
        "!mkdir arquivos"
      ],
      "metadata": {
        "colab": {
          "base_uri": "https://localhost:8080/"
        },
        "id": "zJh1lPDpwiVH",
        "outputId": "99a0cdc1-ac9d-40a3-9fe6-8c7cb4fbc15b"
      },
      "execution_count": 9,
      "outputs": [
        {
          "output_type": "stream",
          "name": "stdout",
          "text": [
            "Limpando arquivos antigos\n",
            "Criando a pasta \"arquivos\"\n"
          ]
        }
      ]
    },
    {
      "cell_type": "markdown",
      "source": [
        "Selecione os arquivos CSV ou XLSX para upload. É possível fazer upload de ZIP com vários arquivos, porém é nessário adicionar uma função adicional. Comentários no código!"
      ],
      "metadata": {
        "id": "Cs8PK5VdwoMP"
      }
    },
    {
      "cell_type": "code",
      "source": [
        "from google.colab import files\n",
        "\n",
        "print('Escolha o arquivo CSV')\n",
        "ap_up = files.upload()\n",
        "try:\n",
        "  !mv *.csv arquivos\n",
        "  !mv *.xlsx arquivos\n",
        "  !mv *.zip arquivos\n",
        "except Exception as e:\n",
        "  print(e)"
      ],
      "metadata": {
        "id": "b0UFv9S4woUH"
      },
      "execution_count": null,
      "outputs": []
    },
    {
      "cell_type": "markdown",
      "source": [
        "Nessa parte, você já tem o ambiente pronto, só executar o próximo passo que o script se encarregará em criar uma base SQLite com o seu arquivo.\n",
        "\n",
        "Obs. Para determinar o tipo de informação de cada coluna, você pode escolher o **dtype**, que é o time de cada coluna. O Pandas reconhece boa parte, mas se estiver apresentando erro, será necessário configurar manualmente."
      ],
      "metadata": {
        "id": "RHvtnCrVxXae"
      }
    },
    {
      "cell_type": "code",
      "source": [
        "app = appCore()\n",
        "dir_list = app.read_dir(path=['arquivos'], extension='.csv$|.zip$|.xlsx$')\n",
        "\n",
        "if len(dir_list) > 0:\n",
        "    for readfile in dir_list:\n",
        "        filename, file_extension = os.path.splitext(readfile)\n",
        "        print(f'Trabalhando no arquivo {readfile}')\n",
        "        if file_extension.upper() == '.ZIP':\n",
        "            zipped = True\n",
        "        else:\n",
        "            zipped = False\n",
        "\n",
        "        app.read(input=readfile, zipped=zipped, sep=';', encoding='iso-8859-1')\n",
        "        #Exemplo de dtype\n",
        "        #dtype = {'COLUNA 1': Integer()}\n",
        "        dtype = {}\n",
        "        app.write(dtype=dtype)"
      ],
      "metadata": {
        "id": "va6-tFIbxayn"
      },
      "execution_count": null,
      "outputs": []
    },
    {
      "cell_type": "markdown",
      "source": [
        "Pronto! A sua base SQlite está pronta!\n",
        "\n",
        "Vamos testar?"
      ],
      "metadata": {
        "id": "FD078sT3zfBg"
      }
    },
    {
      "cell_type": "code",
      "source": [
        "engine = create_engine('sqlite:///pesquisa.db', echo=False)\n",
        "sqlite_connection = engine.connect()\n",
        "df = pd.read_sql(\"SELECT * FROM Base limit 10\", sqlite_connection)\n",
        "\n",
        "print(df)"
      ],
      "metadata": {
        "id": "DdYpz71PzjpX"
      },
      "execution_count": null,
      "outputs": []
    }
  ]
}