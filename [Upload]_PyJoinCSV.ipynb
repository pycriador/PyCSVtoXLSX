{
  "nbformat": 4,
  "nbformat_minor": 0,
  "metadata": {
    "colab": {
      "name": "[Upload] PyJoinCSV.ipynb",
      "provenance": [],
      "collapsed_sections": [],
      "authorship_tag": "ABX9TyOdsU4SWlZZ9VE6zOj2l49z",
      "include_colab_link": true
    },
    "kernelspec": {
      "name": "python3",
      "display_name": "Python 3"
    },
    "language_info": {
      "name": "python"
    }
  },
  "cells": [
    {
      "cell_type": "markdown",
      "metadata": {
        "id": "view-in-github",
        "colab_type": "text"
      },
      "source": [
        "<a href=\"https://colab.research.google.com/github/pycriador/PyCSVtoXLSX/blob/main/%5BUpload%5D_PyJoinCSV.ipynb\" target=\"_parent\"><img src=\"https://colab.research.google.com/assets/colab-badge.svg\" alt=\"Open In Colab\"/></a>"
      ]
    },
    {
      "cell_type": "markdown",
      "source": [
        "## Projeto de Março\n",
        "\n",
        "Um programa para unificar vários arquivos CSV em um único arquivo Excel (XLSX), utilizando o modo tabela do próprio Excel\n",
        "\n",
        "Primeiro vamos instalar a biblioteca responsável por exportar em formato de tabela"
      ],
      "metadata": {
        "id": "TP4LgmHxf1H_"
      }
    },
    {
      "cell_type": "code",
      "source": [
        "!pip install xlsxwriter"
      ],
      "metadata": {
        "id": "E_lEKmqmEYGe"
      },
      "execution_count": null,
      "outputs": []
    },
    {
      "cell_type": "markdown",
      "source": [
        "Essa é a função principal, você precisa só executar por enquanto. Se quiser modificar a codificação do seu arquivo CSV ou o separador, será necessário executar novamente essa parte."
      ],
      "metadata": {
        "id": "E8Am5JpjgOWn"
      }
    },
    {
      "cell_type": "code",
      "execution_count": null,
      "metadata": {
        "id": "egff3MarBdFI"
      },
      "outputs": [],
      "source": [
        "import pandas as pd\n",
        "import numpy as np\n",
        "import time\n",
        "import os, re\n",
        "import xlsxwriter\n",
        "\n",
        "class appCSV():\n",
        "\n",
        "    def __init__(self):\n",
        "        self.df_base = []\n",
        "\n",
        "    def files(self, path, extension):\n",
        "        for file in os.listdir(path):\n",
        "            if os.path.isfile(os.path.join(path, file)):\n",
        "                if re.search(extension, file):\n",
        "                    yield file\n",
        "\n",
        "    def read(self, input=None, clean_cache=None):\n",
        "        if clean_cache:\n",
        "            self.df_base = []\n",
        "\n",
        "        df = pd.read_csv(input, sep=\";\", encoding='iso-8859-1', low_memory=False)\n",
        "\n",
        "        base_cols = df.columns.tolist()\n",
        "        for col in base_cols:\n",
        "            try:\n",
        "                df[col] = df[col].str.strip()\n",
        "            except Exception as e:\n",
        "                pass\n",
        "        self.df_base.append(df)\n",
        "\n",
        "    def join(self):\n",
        "        self.result = pd.concat(self.df_base)\n",
        "        self.result = self.result.replace(np.nan, '', regex=True)\n",
        "\n",
        "\n",
        "    def export(self, output='OutputFile', timestamp=True, sheet='Base'):\n",
        "        def colToExcel(col):  # col is 1 based\n",
        "            excelCol = str()\n",
        "            div = col\n",
        "            while div:\n",
        "                (div, mod) = divmod(div - 1, 26)  # will return (x, 0 .. 25)\n",
        "                excelCol = chr(mod + 65) + excelCol\n",
        "\n",
        "            return excelCol\n",
        "\n",
        "        if timestamp:\n",
        "            timestamp = int(time.time())\n",
        "            timestamp = f' - {timestamp}'\n",
        "        else:\n",
        "            timestamp = ''\n",
        "\n",
        "        #Output sem formatação\n",
        "        #with pd.ExcelWriter(f'PANDAS_{output}{timestamp}.xlsx') as writer:\n",
        "        #    self.result.to_excel(writer, sheet_name=sheet, index=False)\n",
        "\n",
        "        #Output com formatação e tabela do Excel\n",
        "        workbook = xlsxwriter.Workbook(f'{output}{timestamp}.xlsx', options={'nan_inf_to_errors': True})\n",
        "        # Criar aba\n",
        "        worksheet = workbook.add_worksheet(sheet)\n",
        "        # Set the columns widths\n",
        "        worksheet.set_column('A:Z', 15)\n",
        "        workbook.formats[0].set_font_size(8)\n",
        "        colunas = self.result.columns.tolist()\n",
        "        n_l = ['header' for x in colunas]\n",
        "        lines = len(self.result.index) + 1\n",
        "\n",
        "        columns = []\n",
        "        for x in colunas:\n",
        "            for y in n_l:\n",
        "                columns.append({y: x})\n",
        "                break\n",
        "\n",
        "        col = colToExcel(len(colunas))\n",
        "        worksheet.add_table('A1:%s%s' % (col, lines), {'data': self.result.values.tolist(),\n",
        "                                                       'columns': columns,\n",
        "                                                       'style': 'Table Style Light 11',\n",
        "                                                       'name': sheet})\n",
        "        workbook.close()"
      ]
    },
    {
      "cell_type": "markdown",
      "source": [
        "Agora vamos realizar o upload dos arquivos e limpar os arquivos antigos"
      ],
      "metadata": {
        "id": "D4VBRaiYgf0e"
      }
    },
    {
      "cell_type": "code",
      "source": [
        "from google.colab import files\n",
        "import shutil\n",
        "\n",
        "print('Escolha o arquivo CSV')\n",
        "ap_up = files.upload()\n",
        "\n",
        "print('Limpando arquivos antigos')\n",
        "try:\n",
        "  shutil.rmtree('arquivos')\n",
        "except Exception as e:\n",
        "  print(f'Erro: {e}')\n",
        "\n",
        "!mkdir arquivos\n",
        "!mv *.csv arquivos"
      ],
      "metadata": {
        "id": "MOwP1RAAGZrB"
      },
      "execution_count": null,
      "outputs": []
    },
    {
      "cell_type": "markdown",
      "source": [
        "Agora é só executar esse ultimo passo para exportar o arquivo em XLSX"
      ],
      "metadata": {
        "id": "OHxR8AHRgoIA"
      }
    },
    {
      "cell_type": "code",
      "source": [
        "app = appCSV()\n",
        "\n",
        "dir_list = []\n",
        "\n",
        "path = ['arquivos']\n",
        "extension = '.csv$'\n",
        "\n",
        "for path_info in path:\n",
        "    dirs = app.files(path_info, extension)\n",
        "    for dir_info in dirs:\n",
        "        dir_list.append(\"%s/%s\" % (path_info, dir_info))\n",
        "\n",
        "if len(dir_list) > 0:\n",
        "    for csvfile in dir_list:\n",
        "        print(f'Trabalhando no arquivo {csvfile}')\n",
        "        app.read(input=csvfile, clean_cache=False)\n",
        "\n",
        "    #Exportar em um arquivo tudo\n",
        "    app.join()\n",
        "    app.export(output='Arquivo CSV unificado', timestamp=True, sheet='Base')"
      ],
      "metadata": {
        "id": "8EGGQ3E6B2-_"
      },
      "execution_count": null,
      "outputs": []
    }
  ]
}